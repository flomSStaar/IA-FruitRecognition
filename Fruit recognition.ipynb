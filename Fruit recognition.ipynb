{
 "cells": [
  {
   "cell_type": "markdown",
   "id": "unavailable-berkeley",
   "metadata": {},
   "source": [
    "# Fruit recognition"
   ]
  },
  {
   "cell_type": "markdown",
   "id": "grateful-mambo",
   "metadata": {},
   "source": [
    "## Chargement des modules"
   ]
  },
  {
   "cell_type": "code",
   "execution_count": 1,
   "id": "hispanic-county",
   "metadata": {},
   "outputs": [],
   "source": [
    "import numpy as np\n",
    "import pandas as pd\n",
    "import matplotlib.pyplot as plt\n",
    "import matplotlib.image as im\n",
    "import sklearn as sk\n",
    "import glob\n",
    "import os\n",
    "import datetime as dt\n",
    "import seaborn as sea\n",
    "\n",
    "from sklearn.model_selection import train_test_split\n",
    "from sklearn.tree import DecisionTreeClassifier\n",
    "from sklearn.metrics import accuracy_score\n",
    "from sklearn import metrics\n",
    "from sklearn import svm\n",
    "from sklearn.neighbors import KNeighborsClassifier"
   ]
  },
  {
   "cell_type": "markdown",
   "id": "appointed-webmaster",
   "metadata": {},
   "source": [
    "## Chargement des données (train)"
   ]
  },
  {
   "cell_type": "code",
   "execution_count": null,
   "id": "general-sandwich",
   "metadata": {},
   "outputs": [],
   "source": [
    "tabImg=pd.DataFrame()\n",
    "categories = ['Apple Braeburn', 'Apple Granny Smith', 'Apricot', 'Avocado', 'Banana', 'Blueberry', 'Cactus fruit', 'Cantaloupe', 'Cherry', 'Clementine', 'Corn', 'Cucumber Ripe', 'Grape Blue', 'Kiwi', 'Lemon', 'Limes', 'Mango', 'Onion White', 'Orange', 'Papaya', 'Passion Fruit', 'Peach', 'Pear', 'Pepper Green', 'Pepper Red', 'Pineapple', 'Plum', 'Pomegranate', 'Potato Red', 'Raspberry', 'Strawberry', 'Tomato', 'Watermelon']\n",
    "label = []\n",
    "root_dir=os.getcwd()+\"\\\\data\\\\train\\\\\"\n",
    "\n",
    "for filename in glob.iglob(root_dir+'**\\\\*.jpg',recursive=True):\n",
    "    img=im.imread(filename)\n",
    "    img=img.reshape(img.shape[0]*img.shape[1]*img.shape[2])\n",
    "    \n",
    "    fruit_name=filename.split('\\\\')[-2]\n",
    "    \n",
    "    label.append(categories.index(fruit_name))\n",
    "    tabImg=tabImg.append(pd.Series(img),ignore_index=True)\n",
    "tabImg['label']=label"
   ]
  },
  {
   "cell_type": "code",
   "execution_count": null,
   "id": "champion-independence",
   "metadata": {},
   "outputs": [],
   "source": [
    "tabImg.shape"
   ]
  },
  {
   "cell_type": "code",
   "execution_count": null,
   "id": "familiar-detector",
   "metadata": {},
   "outputs": [],
   "source": [
    "tabImg.to_csv('train.csv',index=False)"
   ]
  },
  {
   "cell_type": "code",
   "execution_count": null,
   "id": "5ff82109",
   "metadata": {},
   "outputs": [],
   "source": [
    "np.save('train.npy', tabImg)"
   ]
  },
  {
   "cell_type": "code",
   "execution_count": null,
   "id": "lonely-corporation",
   "metadata": {},
   "outputs": [],
   "source": [
    "tabImg.head(5)"
   ]
  },
  {
   "cell_type": "markdown",
   "id": "88e48acd",
   "metadata": {},
   "source": [
    "## Récupération des données (train)"
   ]
  },
  {
   "cell_type": "code",
   "execution_count": 2,
   "id": "decent-adelaide",
   "metadata": {},
   "outputs": [],
   "source": [
    "#tab=pd.read_csv('train.csv')\n",
    "tab = np.load('train.npy', allow_pickle=True)"
   ]
  },
  {
   "cell_type": "code",
   "execution_count": 3,
   "id": "legislative-coral",
   "metadata": {},
   "outputs": [
    {
     "name": "stdout",
     "output_type": "stream",
     "text": [
      "(16854, 30001)\n"
     ]
    }
   ],
   "source": [
    "print(tab.shape)\n",
    "tab=pd.DataFrame(tab)"
   ]
  },
  {
   "cell_type": "code",
   "execution_count": 4,
   "id": "fatty-belgium",
   "metadata": {},
   "outputs": [
    {
     "data": {
      "text/html": [
       "<div>\n",
       "<style scoped>\n",
       "    .dataframe tbody tr th:only-of-type {\n",
       "        vertical-align: middle;\n",
       "    }\n",
       "\n",
       "    .dataframe tbody tr th {\n",
       "        vertical-align: top;\n",
       "    }\n",
       "\n",
       "    .dataframe thead th {\n",
       "        text-align: right;\n",
       "    }\n",
       "</style>\n",
       "<table border=\"1\" class=\"dataframe\">\n",
       "  <thead>\n",
       "    <tr style=\"text-align: right;\">\n",
       "      <th></th>\n",
       "      <th>0</th>\n",
       "      <th>1</th>\n",
       "      <th>2</th>\n",
       "      <th>3</th>\n",
       "      <th>4</th>\n",
       "      <th>5</th>\n",
       "      <th>6</th>\n",
       "      <th>7</th>\n",
       "      <th>8</th>\n",
       "      <th>9</th>\n",
       "      <th>...</th>\n",
       "      <th>29991</th>\n",
       "      <th>29992</th>\n",
       "      <th>29993</th>\n",
       "      <th>29994</th>\n",
       "      <th>29995</th>\n",
       "      <th>29996</th>\n",
       "      <th>29997</th>\n",
       "      <th>29998</th>\n",
       "      <th>29999</th>\n",
       "      <th>30000</th>\n",
       "    </tr>\n",
       "  </thead>\n",
       "  <tbody>\n",
       "    <tr>\n",
       "      <th>0</th>\n",
       "      <td>255.0</td>\n",
       "      <td>255.0</td>\n",
       "      <td>255.0</td>\n",
       "      <td>255.0</td>\n",
       "      <td>255.0</td>\n",
       "      <td>255.0</td>\n",
       "      <td>255.0</td>\n",
       "      <td>255.0</td>\n",
       "      <td>255.0</td>\n",
       "      <td>255.0</td>\n",
       "      <td>...</td>\n",
       "      <td>255.0</td>\n",
       "      <td>255.0</td>\n",
       "      <td>255.0</td>\n",
       "      <td>255.0</td>\n",
       "      <td>255.0</td>\n",
       "      <td>255.0</td>\n",
       "      <td>255.0</td>\n",
       "      <td>255.0</td>\n",
       "      <td>255.0</td>\n",
       "      <td>0.0</td>\n",
       "    </tr>\n",
       "    <tr>\n",
       "      <th>1</th>\n",
       "      <td>255.0</td>\n",
       "      <td>255.0</td>\n",
       "      <td>246.0</td>\n",
       "      <td>253.0</td>\n",
       "      <td>255.0</td>\n",
       "      <td>247.0</td>\n",
       "      <td>253.0</td>\n",
       "      <td>255.0</td>\n",
       "      <td>249.0</td>\n",
       "      <td>251.0</td>\n",
       "      <td>...</td>\n",
       "      <td>255.0</td>\n",
       "      <td>255.0</td>\n",
       "      <td>255.0</td>\n",
       "      <td>255.0</td>\n",
       "      <td>255.0</td>\n",
       "      <td>255.0</td>\n",
       "      <td>255.0</td>\n",
       "      <td>255.0</td>\n",
       "      <td>255.0</td>\n",
       "      <td>0.0</td>\n",
       "    </tr>\n",
       "    <tr>\n",
       "      <th>2</th>\n",
       "      <td>255.0</td>\n",
       "      <td>255.0</td>\n",
       "      <td>255.0</td>\n",
       "      <td>255.0</td>\n",
       "      <td>255.0</td>\n",
       "      <td>255.0</td>\n",
       "      <td>255.0</td>\n",
       "      <td>255.0</td>\n",
       "      <td>255.0</td>\n",
       "      <td>255.0</td>\n",
       "      <td>...</td>\n",
       "      <td>255.0</td>\n",
       "      <td>255.0</td>\n",
       "      <td>255.0</td>\n",
       "      <td>255.0</td>\n",
       "      <td>255.0</td>\n",
       "      <td>255.0</td>\n",
       "      <td>255.0</td>\n",
       "      <td>255.0</td>\n",
       "      <td>255.0</td>\n",
       "      <td>0.0</td>\n",
       "    </tr>\n",
       "    <tr>\n",
       "      <th>3</th>\n",
       "      <td>255.0</td>\n",
       "      <td>255.0</td>\n",
       "      <td>251.0</td>\n",
       "      <td>255.0</td>\n",
       "      <td>255.0</td>\n",
       "      <td>253.0</td>\n",
       "      <td>255.0</td>\n",
       "      <td>254.0</td>\n",
       "      <td>252.0</td>\n",
       "      <td>255.0</td>\n",
       "      <td>...</td>\n",
       "      <td>255.0</td>\n",
       "      <td>255.0</td>\n",
       "      <td>255.0</td>\n",
       "      <td>255.0</td>\n",
       "      <td>255.0</td>\n",
       "      <td>255.0</td>\n",
       "      <td>255.0</td>\n",
       "      <td>255.0</td>\n",
       "      <td>255.0</td>\n",
       "      <td>0.0</td>\n",
       "    </tr>\n",
       "    <tr>\n",
       "      <th>4</th>\n",
       "      <td>255.0</td>\n",
       "      <td>255.0</td>\n",
       "      <td>255.0</td>\n",
       "      <td>255.0</td>\n",
       "      <td>255.0</td>\n",
       "      <td>255.0</td>\n",
       "      <td>255.0</td>\n",
       "      <td>255.0</td>\n",
       "      <td>255.0</td>\n",
       "      <td>255.0</td>\n",
       "      <td>...</td>\n",
       "      <td>255.0</td>\n",
       "      <td>255.0</td>\n",
       "      <td>255.0</td>\n",
       "      <td>255.0</td>\n",
       "      <td>255.0</td>\n",
       "      <td>255.0</td>\n",
       "      <td>255.0</td>\n",
       "      <td>255.0</td>\n",
       "      <td>255.0</td>\n",
       "      <td>0.0</td>\n",
       "    </tr>\n",
       "  </tbody>\n",
       "</table>\n",
       "<p>5 rows × 30001 columns</p>\n",
       "</div>"
      ],
      "text/plain": [
       "   0      1      2      3      4      5      6      7      8      9      ...  \\\n",
       "0  255.0  255.0  255.0  255.0  255.0  255.0  255.0  255.0  255.0  255.0  ...   \n",
       "1  255.0  255.0  246.0  253.0  255.0  247.0  253.0  255.0  249.0  251.0  ...   \n",
       "2  255.0  255.0  255.0  255.0  255.0  255.0  255.0  255.0  255.0  255.0  ...   \n",
       "3  255.0  255.0  251.0  255.0  255.0  253.0  255.0  254.0  252.0  255.0  ...   \n",
       "4  255.0  255.0  255.0  255.0  255.0  255.0  255.0  255.0  255.0  255.0  ...   \n",
       "\n",
       "   29991  29992  29993  29994  29995  29996  29997  29998  29999  30000  \n",
       "0  255.0  255.0  255.0  255.0  255.0  255.0  255.0  255.0  255.0    0.0  \n",
       "1  255.0  255.0  255.0  255.0  255.0  255.0  255.0  255.0  255.0    0.0  \n",
       "2  255.0  255.0  255.0  255.0  255.0  255.0  255.0  255.0  255.0    0.0  \n",
       "3  255.0  255.0  255.0  255.0  255.0  255.0  255.0  255.0  255.0    0.0  \n",
       "4  255.0  255.0  255.0  255.0  255.0  255.0  255.0  255.0  255.0    0.0  \n",
       "\n",
       "[5 rows x 30001 columns]"
      ]
     },
     "execution_count": 4,
     "metadata": {},
     "output_type": "execute_result"
    }
   ],
   "source": [
    "tab.head(5)"
   ]
  },
  {
   "cell_type": "code",
   "execution_count": 6,
   "id": "f79a90e3",
   "metadata": {},
   "outputs": [
    {
     "data": {
      "text/plain": [
       "0        0\n",
       "1        0\n",
       "2        0\n",
       "3        0\n",
       "4        0\n",
       "        ..\n",
       "29996    0\n",
       "29997    0\n",
       "29998    0\n",
       "29999    0\n",
       "30000    0\n",
       "Length: 30001, dtype: int64"
      ]
     },
     "execution_count": 6,
     "metadata": {},
     "output_type": "execute_result"
    }
   ],
   "source": [
    "tab.isna().sum()"
   ]
  },
  {
   "cell_type": "markdown",
   "id": "9528fe5d",
   "metadata": {},
   "source": [
    "# Traitement des données et modèles"
   ]
  },
  {
   "cell_type": "code",
   "execution_count": 7,
   "id": "protective-twins",
   "metadata": {},
   "outputs": [
    {
     "name": "stdout",
     "output_type": "stream",
     "text": [
      "(16854, 30000)\n"
     ]
    },
    {
     "data": {
      "text/html": [
       "<div>\n",
       "<style scoped>\n",
       "    .dataframe tbody tr th:only-of-type {\n",
       "        vertical-align: middle;\n",
       "    }\n",
       "\n",
       "    .dataframe tbody tr th {\n",
       "        vertical-align: top;\n",
       "    }\n",
       "\n",
       "    .dataframe thead th {\n",
       "        text-align: right;\n",
       "    }\n",
       "</style>\n",
       "<table border=\"1\" class=\"dataframe\">\n",
       "  <thead>\n",
       "    <tr style=\"text-align: right;\">\n",
       "      <th></th>\n",
       "      <th>0</th>\n",
       "      <th>1</th>\n",
       "      <th>2</th>\n",
       "      <th>3</th>\n",
       "      <th>4</th>\n",
       "      <th>5</th>\n",
       "      <th>6</th>\n",
       "      <th>7</th>\n",
       "      <th>8</th>\n",
       "      <th>9</th>\n",
       "      <th>...</th>\n",
       "      <th>29990</th>\n",
       "      <th>29991</th>\n",
       "      <th>29992</th>\n",
       "      <th>29993</th>\n",
       "      <th>29994</th>\n",
       "      <th>29995</th>\n",
       "      <th>29996</th>\n",
       "      <th>29997</th>\n",
       "      <th>29998</th>\n",
       "      <th>29999</th>\n",
       "    </tr>\n",
       "  </thead>\n",
       "  <tbody>\n",
       "    <tr>\n",
       "      <th>1422</th>\n",
       "      <td>255.0</td>\n",
       "      <td>255.0</td>\n",
       "      <td>255.0</td>\n",
       "      <td>255.0</td>\n",
       "      <td>255.0</td>\n",
       "      <td>255.0</td>\n",
       "      <td>255.0</td>\n",
       "      <td>255.0</td>\n",
       "      <td>255.0</td>\n",
       "      <td>255.0</td>\n",
       "      <td>...</td>\n",
       "      <td>255.0</td>\n",
       "      <td>255.0</td>\n",
       "      <td>255.0</td>\n",
       "      <td>255.0</td>\n",
       "      <td>255.0</td>\n",
       "      <td>255.0</td>\n",
       "      <td>255.0</td>\n",
       "      <td>255.0</td>\n",
       "      <td>255.0</td>\n",
       "      <td>255.0</td>\n",
       "    </tr>\n",
       "    <tr>\n",
       "      <th>14475</th>\n",
       "      <td>255.0</td>\n",
       "      <td>255.0</td>\n",
       "      <td>255.0</td>\n",
       "      <td>255.0</td>\n",
       "      <td>255.0</td>\n",
       "      <td>255.0</td>\n",
       "      <td>255.0</td>\n",
       "      <td>255.0</td>\n",
       "      <td>255.0</td>\n",
       "      <td>255.0</td>\n",
       "      <td>...</td>\n",
       "      <td>255.0</td>\n",
       "      <td>255.0</td>\n",
       "      <td>255.0</td>\n",
       "      <td>255.0</td>\n",
       "      <td>255.0</td>\n",
       "      <td>255.0</td>\n",
       "      <td>255.0</td>\n",
       "      <td>255.0</td>\n",
       "      <td>255.0</td>\n",
       "      <td>255.0</td>\n",
       "    </tr>\n",
       "    <tr>\n",
       "      <th>14561</th>\n",
       "      <td>255.0</td>\n",
       "      <td>255.0</td>\n",
       "      <td>255.0</td>\n",
       "      <td>255.0</td>\n",
       "      <td>255.0</td>\n",
       "      <td>255.0</td>\n",
       "      <td>255.0</td>\n",
       "      <td>255.0</td>\n",
       "      <td>255.0</td>\n",
       "      <td>255.0</td>\n",
       "      <td>...</td>\n",
       "      <td>255.0</td>\n",
       "      <td>255.0</td>\n",
       "      <td>255.0</td>\n",
       "      <td>255.0</td>\n",
       "      <td>255.0</td>\n",
       "      <td>255.0</td>\n",
       "      <td>255.0</td>\n",
       "      <td>255.0</td>\n",
       "      <td>255.0</td>\n",
       "      <td>255.0</td>\n",
       "    </tr>\n",
       "    <tr>\n",
       "      <th>2903</th>\n",
       "      <td>255.0</td>\n",
       "      <td>255.0</td>\n",
       "      <td>255.0</td>\n",
       "      <td>255.0</td>\n",
       "      <td>255.0</td>\n",
       "      <td>255.0</td>\n",
       "      <td>255.0</td>\n",
       "      <td>255.0</td>\n",
       "      <td>255.0</td>\n",
       "      <td>255.0</td>\n",
       "      <td>...</td>\n",
       "      <td>255.0</td>\n",
       "      <td>255.0</td>\n",
       "      <td>255.0</td>\n",
       "      <td>255.0</td>\n",
       "      <td>255.0</td>\n",
       "      <td>255.0</td>\n",
       "      <td>255.0</td>\n",
       "      <td>255.0</td>\n",
       "      <td>255.0</td>\n",
       "      <td>255.0</td>\n",
       "    </tr>\n",
       "    <tr>\n",
       "      <th>11990</th>\n",
       "      <td>255.0</td>\n",
       "      <td>255.0</td>\n",
       "      <td>255.0</td>\n",
       "      <td>255.0</td>\n",
       "      <td>255.0</td>\n",
       "      <td>255.0</td>\n",
       "      <td>255.0</td>\n",
       "      <td>255.0</td>\n",
       "      <td>255.0</td>\n",
       "      <td>255.0</td>\n",
       "      <td>...</td>\n",
       "      <td>255.0</td>\n",
       "      <td>255.0</td>\n",
       "      <td>255.0</td>\n",
       "      <td>255.0</td>\n",
       "      <td>255.0</td>\n",
       "      <td>255.0</td>\n",
       "      <td>255.0</td>\n",
       "      <td>255.0</td>\n",
       "      <td>255.0</td>\n",
       "      <td>255.0</td>\n",
       "    </tr>\n",
       "  </tbody>\n",
       "</table>\n",
       "<p>5 rows × 30000 columns</p>\n",
       "</div>"
      ],
      "text/plain": [
       "       0      1      2      3      4      5      6      7      8      9      \\\n",
       "1422   255.0  255.0  255.0  255.0  255.0  255.0  255.0  255.0  255.0  255.0   \n",
       "14475  255.0  255.0  255.0  255.0  255.0  255.0  255.0  255.0  255.0  255.0   \n",
       "14561  255.0  255.0  255.0  255.0  255.0  255.0  255.0  255.0  255.0  255.0   \n",
       "2903   255.0  255.0  255.0  255.0  255.0  255.0  255.0  255.0  255.0  255.0   \n",
       "11990  255.0  255.0  255.0  255.0  255.0  255.0  255.0  255.0  255.0  255.0   \n",
       "\n",
       "       ...  29990  29991  29992  29993  29994  29995  29996  29997  29998  \\\n",
       "1422   ...  255.0  255.0  255.0  255.0  255.0  255.0  255.0  255.0  255.0   \n",
       "14475  ...  255.0  255.0  255.0  255.0  255.0  255.0  255.0  255.0  255.0   \n",
       "14561  ...  255.0  255.0  255.0  255.0  255.0  255.0  255.0  255.0  255.0   \n",
       "2903   ...  255.0  255.0  255.0  255.0  255.0  255.0  255.0  255.0  255.0   \n",
       "11990  ...  255.0  255.0  255.0  255.0  255.0  255.0  255.0  255.0  255.0   \n",
       "\n",
       "       29999  \n",
       "1422   255.0  \n",
       "14475  255.0  \n",
       "14561  255.0  \n",
       "2903   255.0  \n",
       "11990  255.0  \n",
       "\n",
       "[5 rows x 30000 columns]"
      ]
     },
     "execution_count": 7,
     "metadata": {},
     "output_type": "execute_result"
    }
   ],
   "source": [
    "X=tab.iloc[:,:-1]\n",
    "print(X.shape)\n",
    "X.head(5)"
   ]
  },
  {
   "cell_type": "code",
   "execution_count": 8,
   "id": "developing-universal",
   "metadata": {},
   "outputs": [
    {
     "name": "stdout",
     "output_type": "stream",
     "text": [
      "(16854,)\n"
     ]
    },
    {
     "data": {
      "text/plain": [
       "1422      2.0\n",
       "14475    28.0\n",
       "14561    28.0\n",
       "2903      6.0\n",
       "11990    23.0\n",
       "Name: 30000, dtype: float64"
      ]
     },
     "execution_count": 8,
     "metadata": {},
     "output_type": "execute_result"
    }
   ],
   "source": [
    "Y=tab.iloc[:,-1]\n",
    "print(Y.shape)\n",
    "Y.head(5)"
   ]
  },
  {
   "cell_type": "markdown",
   "id": "c5a7320f",
   "metadata": {},
   "source": [
    "# KNN"
   ]
  },
  {
   "cell_type": "code",
   "execution_count": 9,
   "id": "dfe90d0d",
   "metadata": {},
   "outputs": [],
   "source": [
    "Xtrain, Xtest, ytrain, ytest = train_test_split(X, Y,test_size=0.25, random_state=0)"
   ]
  },
  {
   "cell_type": "code",
   "execution_count": 10,
   "id": "short-jerusalem",
   "metadata": {},
   "outputs": [
    {
     "name": "stdout",
     "output_type": "stream",
     "text": [
      "(12640, 30000)\n",
      "(4214, 30000)\n",
      "(12640,)\n",
      "(4214,)\n"
     ]
    }
   ],
   "source": [
    "print(Xtrain.shape)\n",
    "print(Xtest.shape)\n",
    "print(ytrain.shape)\n",
    "print(ytest.shape)"
   ]
  },
  {
   "cell_type": "code",
   "execution_count": 16,
   "id": "8649a782",
   "metadata": {},
   "outputs": [],
   "source": [
    "resKNN=[]\n",
    "for i in range(1,31,2):\n",
    "    KKN = KNeighborsClassifier(n_neighbors=i)\n",
    "    clf=KKN.fit(Xtrain,ytrain)\n",
    "    ypredit=clf.predict(Xtest)\n",
    "    resKNN=np.insert(resKNN,0,accuracy_score(ytest,ypredit))"
   ]
  },
  {
   "cell_type": "code",
   "execution_count": 11,
   "id": "f82493ad",
   "metadata": {},
   "outputs": [
    {
     "ename": "NameError",
     "evalue": "name 'resKNN' is not defined",
     "output_type": "error",
     "traceback": [
      "\u001b[1;31m---------------------------------------------------------------------------\u001b[0m",
      "\u001b[1;31mNameError\u001b[0m                                 Traceback (most recent call last)",
      "\u001b[1;32m~\\AppData\\Local\\Temp/ipykernel_2212/919242673.py\u001b[0m in \u001b[0;36m<module>\u001b[1;34m\u001b[0m\n\u001b[1;32m----> 1\u001b[1;33m \u001b[0mplt\u001b[0m\u001b[1;33m.\u001b[0m\u001b[0mplot\u001b[0m\u001b[1;33m(\u001b[0m\u001b[0mrange\u001b[0m\u001b[1;33m(\u001b[0m\u001b[1;36m1\u001b[0m\u001b[1;33m,\u001b[0m\u001b[1;36m31\u001b[0m\u001b[1;33m,\u001b[0m\u001b[1;36m2\u001b[0m\u001b[1;33m)\u001b[0m\u001b[1;33m,\u001b[0m\u001b[0mnp\u001b[0m\u001b[1;33m.\u001b[0m\u001b[0mflip\u001b[0m\u001b[1;33m(\u001b[0m\u001b[0mresKNN\u001b[0m\u001b[1;33m)\u001b[0m\u001b[1;33m)\u001b[0m\u001b[1;33m\u001b[0m\u001b[1;33m\u001b[0m\u001b[0m\n\u001b[0m",
      "\u001b[1;31mNameError\u001b[0m: name 'resKNN' is not defined"
     ]
    }
   ],
   "source": [
    "plt.plot(range(1,31,2),np.flip(resKNN))"
   ]
  },
  {
   "cell_type": "code",
   "execution_count": 21,
   "id": "39b2853a",
   "metadata": {},
   "outputs": [],
   "source": [
    "date=dt.datetime.now().strftime(\"%Y_%m_%d-%H:%M:%S\")\n",
    "filename='saves/KNN.npy'\n",
    "\n",
    "np.save(filename, np.flip(resKNN))"
   ]
  },
  {
   "cell_type": "code",
   "execution_count": 12,
   "id": "b81df465",
   "metadata": {},
   "outputs": [],
   "source": [
    "resKNN = np.load('saves/KNN.npy', allow_pickle=True)"
   ]
  },
  {
   "cell_type": "code",
   "execution_count": 14,
   "id": "11be52fb",
   "metadata": {},
   "outputs": [
    {
     "data": {
      "text/plain": [
       "[<matplotlib.lines.Line2D at 0x1a398f6a7c0>]"
      ]
     },
     "execution_count": 14,
     "metadata": {},
     "output_type": "execute_result"
    },
    {
     "data": {
      "image/png": "[encoded data removed]",
      "text/plain": [
       "<Figure size 432x288 with 1 Axes>"
      ]
     },
     "metadata": {
      "needs_background": "light"
     },
     "output_type": "display_data"
    }
   ],
   "source": [
    "plt.plot(range(1,31,2),resKNN)"
   ]
  },
  {
   "cell_type": "code",
   "execution_count": 28,
   "id": "cbbbc7a4",
   "metadata": {},
   "outputs": [
    {
     "name": "stdout",
     "output_type": "stream",
     "text": [
      "[0.98101566 0.9829141  0.98504983 0.98694827 0.98766018 0.99074514\n",
      " 0.99169435 0.99525392 0.99691505 0.99833887 0.99905078 0.99928809\n",
      " 0.9997627  0.9997627  1.        ]\n"
     ]
    }
   ],
   "source": [
    "print(resKNN)"
   ]
  },
  {
   "cell_type": "code",
   "execution_count": 13,
   "id": "967847f9",
   "metadata": {},
   "outputs": [
    {
     "name": "stdout",
     "output_type": "stream",
     "text": [
      "[[119   0   0 ...   0   0   0]\n",
      " [  0 121   0 ...   0   0   0]\n",
      " [  0   0 115 ...   0   0   0]\n",
      " ...\n",
      " [  0   0   0 ... 122   0   0]\n",
      " [  0   0   0 ...   0 190   0]\n",
      " [  0   0   0 ...   0   0 110]]\n"
     ]
    }
   ],
   "source": [
    "mat_confusion=metrics.confusion_matrix(ytest,ypredit)\n",
    "print(mat_confusion.shape)\n",
    "print(mat_confusion)"
   ]
  },
  {
   "cell_type": "code",
   "execution_count": 95,
   "id": "7bd8b8ad",
   "metadata": {},
   "outputs": [
    {
     "name": "stdout",
     "output_type": "stream",
     "text": [
      "Apple Braeburn\n"
     ]
    },
    {
     "data": {
      "text/plain": [
       "<AxesSubplot:>"
      ]
     },
     "execution_count": 95,
     "metadata": {},
     "output_type": "execute_result"
    },
    {
     "data": {
      "image/png": "[encoded data removed]",
      "text/plain": [
       "<Figure size 432x288 with 2 Axes>"
      ]
     },
     "metadata": {
      "needs_background": "light"
     },
     "output_type": "display_data"
    }
   ],
   "source": [
    "categories = ['Apple Braeburn', 'Apple Granny Smith', 'Apricot', 'Avocado', 'Banana', 'Blueberry', 'Cactus fruit', 'Cantaloupe', 'Cherry', 'Clementine', 'Corn', 'Cucumber Ripe', 'Grape Blue', 'Kiwi', 'Lemon', 'Limes', 'Mango', 'Onion White', 'Orange', 'Papaya', 'Passion Fruit', 'Peach', 'Pear', 'Pepper Green', 'Pepper Red', 'Pineapple', 'Plum', 'Pomegranate', 'Potato Red', 'Raspberry', 'Strawberry', 'Tomato', 'Watermelon']\n",
    "print(categories[0])\n",
    "sea.heatmap(mat_confusion,linewidths=True,cmap='Reds')"
   ]
  },
  {
   "cell_type": "code",
   "execution_count": 27,
   "id": "daad9a53",
   "metadata": {},
   "outputs": [
    {
     "data": {
      "text/plain": [
       "0.992406264831514"
      ]
     },
     "execution_count": 27,
     "metadata": {},
     "output_type": "execute_result"
    }
   ],
   "source": [
    "KKN = KNeighborsClassifier(n_neighbors=20)\n",
    "clf=KKN.fit(Xtrain,ytrain)\n",
    "ypredit=clf.predict(Xtest)\n",
    "accuracy_score(ytest,ypredit)"
   ]
  },
  {
   "cell_type": "code",
   "execution_count": 50,
   "id": "f47cb786",
   "metadata": {},
   "outputs": [
    {
     "name": "stdout",
     "output_type": "stream",
     "text": [
      "12794    25.0\n",
      "5494     11.0\n",
      "14327    28.0\n",
      "3067      6.0\n",
      "11099    22.0\n",
      "11717    23.0\n",
      "11514    22.0\n",
      "2086      4.0\n",
      "12680    24.0\n",
      "3126      6.0\n",
      "2272      4.0\n",
      "5459     11.0\n",
      "11552    22.0\n",
      "16598    32.0\n",
      "2439      5.0\n",
      "2357      4.0\n",
      "14209    28.0\n",
      "2048      4.0\n",
      "3260      6.0\n",
      "3180      6.0\n",
      "3304      6.0\n",
      "3151      6.0\n",
      "14353    28.0\n",
      "2632      5.0\n",
      "5352     11.0\n",
      "1395      2.0\n",
      "1358      2.0\n",
      "11303    22.0\n",
      "2006      4.0\n",
      "13794    27.0\n",
      "11251    22.0\n",
      "2852      5.0\n",
      "Name: 30000, dtype: float64\n"
     ]
    },
    {
     "data": {
      "text/plain": [
       "13343    26.0\n",
       "6591     12.0\n",
       "4769      9.0\n",
       "14891    29.0\n",
       "15693    31.0\n",
       "         ... \n",
       "15175    30.0\n",
       "1795      3.0\n",
       "4364      9.0\n",
       "8512     16.0\n",
       "560       1.0\n",
       "Name: 30000, Length: 4214, dtype: float64"
      ]
     },
     "execution_count": 50,
     "metadata": {},
     "output_type": "execute_result"
    }
   ],
   "source": [
    "errPred=ypredit[ypredit != ytest]\n",
    "errTest=ytest[ypredit != ytest]\n",
    "print(errPred)\n",
    "print(errTest)\n",
    "mat_confusion=metrics.confusion_matrix(ytest,ypredit)"
   ]
  },
  {
   "cell_type": "code",
   "execution_count": 33,
   "id": "67c03f77",
   "metadata": {},
   "outputs": [
    {
     "data": {
      "text/plain": [
       "<AxesSubplot:>"
      ]
     },
     "execution_count": 33,
     "metadata": {},
     "output_type": "execute_result"
    },
    {
     "data": {
      "image/png": "[encoded data removed]",
      "text/plain": [
       "<Figure size 432x288 with 2 Axes>"
      ]
     },
     "metadata": {
      "needs_background": "light"
     },
     "output_type": "display_data"
    }
   ],
   "source": [
    "sea.heatmap(mat_confusion,linewidths=True,cmap='Reds')"
   ]
  },
  {
   "cell_type": "markdown",
   "id": "20f64de8",
   "metadata": {},
   "source": [
    "# SVM\n"
   ]
  },
  {
   "cell_type": "code",
   "execution_count": 14,
   "id": "fa463c65",
   "metadata": {},
   "outputs": [],
   "source": [
    "Xtrain, Xtest, ytrain, ytest = train_test_split(X, Y,test_size=0.25, random_state=0)"
   ]
  },
  {
   "cell_type": "code",
   "execution_count": 16,
   "id": "c9dc65d0",
   "metadata": {},
   "outputs": [],
   "source": [
    "clf=svm.SVC(gamma=0.01)\n",
    "clf.fit(Xtrain,ytrain)\n",
    "\n",
    "ypredit=clf.predict(Xtest)"
   ]
  },
  {
   "cell_type": "code",
   "execution_count": 17,
   "id": "796d6dc0",
   "metadata": {},
   "outputs": [
    {
     "data": {
      "text/plain": [
       "0.060512577123872806"
      ]
     },
     "execution_count": 17,
     "metadata": {},
     "output_type": "execute_result"
    }
   ],
   "source": [
    "accuracy_score(ytest,ypredit)"
   ]
  },
  {
   "cell_type": "markdown",
   "id": "9dd6aa73",
   "metadata": {},
   "source": [
    "accuracy : 0.060512577123872806"
   ]
  },
  {
   "cell_type": "code",
   "execution_count": 18,
   "id": "d1ff0dfd",
   "metadata": {},
   "outputs": [
    {
     "name": "stdout",
     "output_type": "stream",
     "text": [
      "[[0 0 0 ... 0 0 0]\n",
      " [0 0 0 ... 0 0 0]\n",
      " [0 0 0 ... 0 0 0]\n",
      " ...\n",
      " [0 0 0 ... 0 0 0]\n",
      " [0 0 0 ... 0 0 0]\n",
      " [0 0 0 ... 0 0 0]]\n"
     ]
    }
   ],
   "source": [
    "mat_confusion=metrics.confusion_matrix(ytest,ypredit)\n",
    "print(mat_confusion.shape)\n",
    "print(mat_confusion)"
   ]
  },
  {
   "cell_type": "markdown",
   "id": "9f5edfcc",
   "metadata": {},
   "source": [
    "Matrice : \n",
    " [[0 0 0 ... 0 0 0]\n",
    " [0 0 0 ... 0 0 0]\n",
    " [0 0 0 ... 0 0 0]\n",
    " ...\n",
    " [0 0 0 ... 0 0 0]\n",
    " [0 0 0 ... 0 0 0]\n",
    " [0 0 0 ... 0 0 0]]"
   ]
  },
  {
   "cell_type": "code",
   "execution_count": null,
   "id": "5760af3d",
   "metadata": {},
   "outputs": [],
   "source": [
    "sea.heatmap(mat_confusion,linewidths=True,cmap='Reds')"
   ]
  },
  {
   "cell_type": "markdown",
   "id": "6ed673c5",
   "metadata": {},
   "source": [
    "# Decision Tree"
   ]
  },
  {
   "cell_type": "code",
   "execution_count": 13,
   "id": "48ddafa4",
   "metadata": {},
   "outputs": [],
   "source": [
    "Xtrain, Xtest, ytrain, ytest = train_test_split(X, Y,test_size=0.25, random_state=0)"
   ]
  },
  {
   "cell_type": "code",
   "execution_count": 14,
   "id": "f431703b",
   "metadata": {},
   "outputs": [],
   "source": [
    "resTree=[]\n",
    "for i in range(5,30,3):\n",
    "    Arbre_decision = DecisionTreeClassifier(random_state=0, max_depth=i)\n",
    "    clf = Arbre_decision.fit(Xtrain, ytrain)\n",
    "    ypredit=clf.predict(Xtest)\n",
    "    resTree=np.insert(resTree,0,accuracy_score(ytest,ypredit))"
   ]
  },
  {
   "cell_type": "code",
   "execution_count": 15,
   "id": "84fc4f4c",
   "metadata": {},
   "outputs": [
    {
     "name": "stdout",
     "output_type": "stream",
     "text": [
      "[0.95989559 0.95989559 0.96131941 0.96179402 0.95609872 0.93118178\n",
      " 0.84361652 0.63170384 0.33270052]\n"
     ]
    },
    {
     "data": {
      "image/png": "[encoded data removed]",
      "text/plain": [
       "<Figure size 432x288 with 1 Axes>"
      ]
     },
     "metadata": {
      "needs_background": "light"
     },
     "output_type": "display_data"
    }
   ],
   "source": [
    "plt.plot(np.flip(resTree))\n",
    "print(resTree)"
   ]
  },
  {
   "cell_type": "code",
   "execution_count": 23,
   "id": "933f901c",
   "metadata": {},
   "outputs": [],
   "source": [
    "date=dt.datetime.now().strftime(\"%Y_%m_%d-%H:%M:%S\")\n",
    "filename='DecisionTree.npy'\n",
    "np.save(filename, np.flip(resTree))"
   ]
  },
  {
   "cell_type": "code",
   "execution_count": 16,
   "id": "e69a9243",
   "metadata": {},
   "outputs": [],
   "source": [
    "resTree = np.load('saves/DecisionTree.npy', allow_pickle=True)"
   ]
  },
  {
   "cell_type": "code",
   "execution_count": 19,
   "id": "f8172c32",
   "metadata": {},
   "outputs": [
    {
     "name": "stdout",
     "output_type": "stream",
     "text": [
      "[0.32439487 0.61722829 0.8540579  0.9271476  0.9492169  0.95657333\n",
      " 0.95823446 0.96203132 0.96416706]\n"
     ]
    },
    {
     "data": {
      "image/png": "[encoded data removed]",
      "text/plain": [
       "<Figure size 432x288 with 1 Axes>"
      ]
     },
     "metadata": {
      "needs_background": "light"
     },
     "output_type": "display_data"
    }
   ],
   "source": [
    "plt.plot(range(5,30,3),resTree)\n",
    "print(resTree)"
   ]
  },
  {
   "cell_type": "code",
   "execution_count": 16,
   "id": "0e721c7b",
   "metadata": {},
   "outputs": [
    {
     "name": "stdout",
     "output_type": "stream",
     "text": [
      "(33, 33)\n",
      "[[134   0   0 ...   0   0   0]\n",
      " [  0 114   0 ...   0   0   0]\n",
      " [  0   0 136 ...   0   0   0]\n",
      " ...\n",
      " [  0   0   0 ... 120   0   2]\n",
      " [  0   0   0 ...   0 186   0]\n",
      " [  0   0   2 ...   0   0 110]]\n"
     ]
    }
   ],
   "source": [
    "mat_confusion=metrics.confusion_matrix(ytest,ypredit)\n",
    "print(mat_confusion.shape)\n",
    "print(mat_confusion)"
   ]
  },
  {
   "cell_type": "code",
   "execution_count": 17,
   "id": "6e1196f1",
   "metadata": {},
   "outputs": [],
   "source": [
    "np.save('saves/mat_DecisionTree.npy',mat_confusion)"
   ]
  },
  {
   "cell_type": "code",
   "execution_count": 18,
   "id": "0d7c6d20",
   "metadata": {},
   "outputs": [
    {
     "data": {
      "text/plain": [
       "<AxesSubplot:>"
      ]
     },
     "execution_count": 18,
     "metadata": {},
     "output_type": "execute_result"
    },
    {
     "data": {
      "image/png": "[encoded data removed]",
      "text/plain": [
       "<Figure size 432x288 with 2 Axes>"
      ]
     },
     "metadata": {
      "needs_background": "light"
     },
     "output_type": "display_data"
    }
   ],
   "source": [
    "sea.heatmap(mat_confusion,linewidths=True,cmap='Reds')"
   ]
  },
  {
   "cell_type": "code",
   "execution_count": 11,
   "id": "ff1481cc",
   "metadata": {},
   "outputs": [],
   "source": [
    "from sklearn.naive_bayes import GaussianNB\n",
    "GNB_classifier = GaussianNB()\n",
    "GNB_classifier.fit(Xtrain, ytrain)\n",
    "predicted = GNB_classifier.predict(Xtest)\n",
    "accuracy_score(ytest,predicted)\n"
   ]
  },
  {
   "cell_type": "code",
   "execution_count": 16,
   "id": "e261537e",
   "metadata": {},
   "outputs": [],
   "source": [
    "from sklearn.neural_network import MLPClassifier"
   ]
  },
  {
   "cell_type": "code",
   "execution_count": 24,
   "id": "616a6767",
   "metadata": {},
   "outputs": [
    {
     "name": "stderr",
     "output_type": "stream",
     "text": [
      "C:\\Users\\thoma\\anaconda3\\lib\\site-packages\\sklearn\\neural_network\\_multilayer_perceptron.py:500: ConvergenceWarning: lbfgs failed to converge (status=1):\n",
      "STOP: TOTAL NO. of ITERATIONS REACHED LIMIT.\n",
      "\n",
      "Increase the number of iterations (max_iter) or scale the data as shown in:\n",
      "    https://scikit-learn.org/stable/modules/preprocessing.html\n",
      "  self.n_iter_ = _check_optimize_result(\"lbfgs\", opt_res, self.max_iter)\n"
     ]
    },
    {
     "data": {
      "text/plain": [
       "0.8566682486948267"
      ]
     },
     "execution_count": 24,
     "metadata": {},
     "output_type": "execute_result"
    }
   ],
   "source": [
    "classifier=MLPClassifier(hidden_layer_sizes=(150,150,50),solver=\"lbfgs\")\n",
    "classifier.fit(Xtrain, ytrain)\n",
    "ypredit=classifier.predict(Xtest)\n",
    "accuracy_score(ytest,ypredit)\n"
   ]
  },
  {
   "cell_type": "code",
   "execution_count": 25,
   "id": "ce1feeeb",
   "metadata": {},
   "outputs": [],
   "source": [
    "mat_confusion=metrics.confusion_matrix(ytest,ypredit)"
   ]
  },
  {
   "cell_type": "code",
   "execution_count": 26,
   "id": "fcb38d9d",
   "metadata": {},
   "outputs": [
    {
     "data": {
      "text/plain": [
       "<AxesSubplot:>"
      ]
     },
     "execution_count": 26,
     "metadata": {},
     "output_type": "execute_result"
    },
    {
     "data": {
      "image/png": "[encoded data removed]",
      "text/plain": [
       "<Figure size 432x288 with 2 Axes>"
      ]
     },
     "metadata": {
      "needs_background": "light"
     },
     "output_type": "display_data"
    }
   ],
   "source": [
    "sea.heatmap(mat_confusion,linewidths=True,cmap='Reds')"
   ]
  },
  {
   "cell_type": "code",
   "execution_count": 31,
   "id": "cf7825c1",
   "metadata": {
    "scrolled": true
   },
   "outputs": [
    {
     "data": {
      "text/plain": [
       "[Text(0, 0.5, 'Apple Braeburn'),\n",
       " Text(0, 1.5, 'Apple Granny Smith'),\n",
       " Text(0, 2.5, 'Apricot'),\n",
       " Text(0, 3.5, 'Avocado'),\n",
       " Text(0, 4.5, 'Banana'),\n",
       " Text(0, 5.5, 'Blueberry'),\n",
       " Text(0, 6.5, 'Cactus fruit'),\n",
       " Text(0, 7.5, 'Cantaloupe'),\n",
       " Text(0, 8.5, 'Cherry'),\n",
       " Text(0, 9.5, 'Clementine'),\n",
       " Text(0, 10.5, 'Corn'),\n",
       " Text(0, 11.5, 'Cucumber Ripe'),\n",
       " Text(0, 12.5, 'Grape Blue'),\n",
       " Text(0, 13.5, 'Kiwi'),\n",
       " Text(0, 14.5, 'Lemon'),\n",
       " Text(0, 15.5, 'Limes'),\n",
       " Text(0, 16.5, 'Mango'),\n",
       " Text(0, 17.5, 'Onion White'),\n",
       " Text(0, 18.5, 'Orange'),\n",
       " Text(0, 19.5, 'Papaya'),\n",
       " Text(0, 20.5, 'Passion Fruit'),\n",
       " Text(0, 21.5, 'Peach'),\n",
       " Text(0, 22.5, 'Pear'),\n",
       " Text(0, 23.5, 'Pepper Green'),\n",
       " Text(0, 24.5, 'Pepper Red'),\n",
       " Text(0, 25.5, 'Pineapple'),\n",
       " Text(0, 26.5, 'Plum'),\n",
       " Text(0, 27.5, 'Pomegranate'),\n",
       " Text(0, 28.5, 'Potato Red'),\n",
       " Text(0, 29.5, 'Raspberry'),\n",
       " Text(0, 30.5, 'Strawberry'),\n",
       " Text(0, 31.5, 'Tomato'),\n",
       " Text(0, 32.5, 'Watermelon')]"
      ]
     },
     "execution_count": 31,
     "metadata": {},
     "output_type": "execute_result"
    },
    {
     "data": {
      "image/png": "[encoded data removed]",
      "text/plain": [
       "<Figure size 3600x2376 with 2 Axes>"
      ]
     },
     "metadata": {
      "needs_background": "light"
     },
     "output_type": "display_data"
    }
   ],
   "source": [
    "categories = ['Apple Braeburn', 'Apple Granny Smith', 'Apricot', 'Avocado', 'Banana', 'Blueberry', 'Cactus fruit', 'Cantaloupe', 'Cherry', 'Clementine', 'Corn', 'Cucumber Ripe', 'Grape Blue', 'Kiwi', 'Lemon', 'Limes', 'Mango', 'Onion White', 'Orange', 'Papaya', 'Passion Fruit', 'Peach', 'Pear', 'Pepper Green', 'Pepper Red', 'Pineapple', 'Plum', 'Pomegranate', 'Potato Red', 'Raspberry', 'Strawberry', 'Tomato', 'Watermelon']\n",
    "f,ax=plt.subplots(figsize=(50,33))\n",
    "sea.heatmap(mat_confusion,annot=True,fmt=\".0f\")\n",
    "ax.set_xticklabels(categories)\n",
    "ax.set_yticklabels(categories)\n"
   ]
  },
  {
   "cell_type": "code",
   "execution_count": null,
   "id": "c8e9ef6e",
   "metadata": {},
   "outputs": [],
   "source": []
  }
 ],
 "metadata": {
  "kernelspec": {
   "display_name": "Python 3 (ipykernel)",
   "language": "python",
   "name": "python3"
  },
  "language_info": {
   "codemirror_mode": {
    "name": "ipython",
    "version": 3
   },
   "file_extension": ".py",
   "mimetype": "text/x-python",
   "name": "python",
   "nbconvert_exporter": "python",
   "pygments_lexer": "ipython3",
   "version": "3.9.7"
  }
 },
 "nbformat": 4,
 "nbformat_minor": 5
}
