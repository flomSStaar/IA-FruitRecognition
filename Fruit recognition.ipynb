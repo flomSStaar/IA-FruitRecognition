{
 "cells": [
  {
   "cell_type": "markdown",
   "id": "unavailable-berkeley",
   "metadata": {},
   "source": [
    "# Fruit recognition"
   ]
  },
  {
   "cell_type": "markdown",
   "id": "grateful-mambo",
   "metadata": {},
   "source": [
    "## Chargement des modules"
   ]
  },
  {
   "cell_type": "code",
   "execution_count": null,
   "id": "hispanic-county",
   "metadata": {},
   "outputs": [],
   "source": [
    "import numpy as np\n",
    "import pandas as pd\n",
    "import matplotlib.pyplot as plt\n",
    "import matplotlib.image as im\n",
    "import sklearn as sk\n",
    "import glob\n",
    "import os\n",
    "\n",
    "from sklearn.model_selection import train_test_split\n",
    "from sklearn.tree import DecisionTreeClassifier\n",
    "from sklearn.metrics import accuracy_score\n",
    "from sklearn import metrics\n",
    "from sklearn import svm\n",
    "from sklearn.neighbors import KNeighborsClassifier"
   ]
  },
  {
   "cell_type": "markdown",
   "id": "appointed-webmaster",
   "metadata": {},
   "source": [
    "## Chargement des données (train)"
   ]
  },
  {
   "cell_type": "code",
   "execution_count": null,
   "id": "general-sandwich",
   "metadata": {},
   "outputs": [],
   "source": [
    "tabImg=pd.DataFrame()\n",
    "categories = ['Apple Braeburn', 'Apple Granny Smith', 'Apricot', 'Avocado', 'Banana', 'Blueberry', 'Cactus fruit', 'Cantaloupe', 'Cherry', 'Clementine', 'Corn', 'Cucumber Ripe', 'Grape Blue', 'Kiwi', 'Lemon', 'Limes', 'Mango', 'Onion White', 'Orange', 'Papaya', 'Passion Fruit', 'Peach', 'Pear', 'Pepper Green', 'Pepper Red', 'Pineapple', 'Plum', 'Pomegranate', 'Potato Red', 'Raspberry', 'Strawberry', 'Tomato', 'Watermelon']\n",
    "label = []\n",
    "root_dir=os.getcwd()+\"\\\\data\\\\train\\\\\"\n",
    "\n",
    "for filename in glob.iglob(root_dir+'**\\\\*.jpg',recursive=True):\n",
    "    img=im.imread(filename)\n",
    "    img=img.reshape(img.shape[0]*img.shape[1]*img.shape[2])\n",
    "    \n",
    "    fruit_name=filename.split('\\\\')[-2]\n",
    "    \n",
    "    label.append(categories.index(fruit_name))\n",
    "    tabImg=tabImg.append(pd.Series(img),ignore_index=True)\n",
    "tabImg['label']=label"
   ]
  },
  {
   "cell_type": "code",
   "execution_count": null,
   "id": "champion-independence",
   "metadata": {},
   "outputs": [],
   "source": [
    "tabImg.shape"
   ]
  },
  {
   "cell_type": "code",
   "execution_count": null,
   "id": "familiar-detector",
   "metadata": {},
   "outputs": [],
   "source": [
    "tabImg.to_csv('train.csv',index=False)"
   ]
  },
  {
   "cell_type": "code",
   "execution_count": null,
   "id": "5ff82109",
   "metadata": {},
   "outputs": [],
   "source": [
    "np.save('train.npy', tabImg)"
   ]
  },
  {
   "cell_type": "code",
   "execution_count": null,
   "id": "lonely-corporation",
   "metadata": {},
   "outputs": [],
   "source": [
    "tabImg.head(5)"
   ]
  },
  {
   "cell_type": "markdown",
   "id": "88e48acd",
   "metadata": {},
   "source": [
    "## Récupération des données (train)"
   ]
  },
  {
   "cell_type": "code",
   "execution_count": null,
   "id": "decent-adelaide",
   "metadata": {},
   "outputs": [],
   "source": [
    "#tab=pd.read_csv('train.csv')\n",
    "tab = np.load('train.npy', allow_pickle=True)"
   ]
  },
  {
   "cell_type": "code",
   "execution_count": null,
   "id": "legislative-coral",
   "metadata": {},
   "outputs": [],
   "source": [
    "print(tab.shape)\n",
    "tab=pd.DataFrame(tab)"
   ]
  },
  {
   "cell_type": "code",
   "execution_count": null,
   "id": "fatty-belgium",
   "metadata": {},
   "outputs": [],
   "source": [
    "tab.head(5)"
   ]
  },
  {
   "cell_type": "code",
   "execution_count": null,
   "id": "deb29109",
   "metadata": {},
   "outputs": [],
   "source": [
    "tab=tab.sample(frac=1) # Pour mélanger\n",
    "tab.head(5)"
   ]
  },
  {
   "cell_type": "code",
   "execution_count": null,
   "id": "f79a90e3",
   "metadata": {},
   "outputs": [],
   "source": [
    "tab.isna().sum()"
   ]
  },
  {
   "cell_type": "markdown",
   "id": "9528fe5d",
   "metadata": {},
   "source": [
    "# Traitement des données et modèles"
   ]
  },
  {
   "cell_type": "code",
   "execution_count": null,
   "id": "protective-twins",
   "metadata": {},
   "outputs": [],
   "source": [
    "X=tab.iloc[:,:-1]\n",
    "print(X.shape)\n",
    "X.head(5)"
   ]
  },
  {
   "cell_type": "code",
   "execution_count": null,
   "id": "developing-universal",
   "metadata": {},
   "outputs": [],
   "source": [
    "Y=tab.iloc[:,-1]\n",
    "print(Y.shape)\n",
    "Y.head(5)"
   ]
  },
  {
   "cell_type": "code",
   "execution_count": null,
   "id": "dfe90d0d",
   "metadata": {},
   "outputs": [],
   "source": [
    "Xtrain, Xtest, ytrain, ytest = train_test_split(X, Y,test_size=0.25, random_state=0)"
   ]
  },
  {
   "cell_type": "code",
   "execution_count": null,
   "id": "short-jerusalem",
   "metadata": {},
   "outputs": [],
   "source": [
    "print(Xtrain.shape)\n",
    "print(Xtest.shape)\n",
    "print(ytrain.shape)\n",
    "print(ytest.shape)"
   ]
  },
  {
   "cell_type": "code",
   "execution_count": null,
   "id": "8649a782",
   "metadata": {},
   "outputs": [],
   "source": [
    "KKN = KNeighborsClassifier()\n",
    "clf=KKN.fit(Xtrain,ytrain)\n",
    "\n",
    "ypredit=clf.predict(Xtest)"
   ]
  },
  {
   "cell_type": "code",
   "execution_count": null,
   "id": "48d031fb",
   "metadata": {},
   "outputs": [],
   "source": [
    "print(accuracy_score(ytest,ypredit))"
   ]
  },
  {
   "cell_type": "code",
   "execution_count": null,
   "id": "967847f9",
   "metadata": {},
   "outputs": [],
   "source": [
    "print(metrics.confusion_matrix(ytest, ypredit))"
   ]
  }
 ],
 "metadata": {
  "kernelspec": {
   "display_name": "Python 3 (ipykernel)",
   "language": "python",
   "name": "python3"
  },
  "language_info": {
   "codemirror_mode": {
    "name": "ipython",
    "version": 3
   },
   "file_extension": ".py",
   "mimetype": "text/x-python",
   "name": "python",
   "nbconvert_exporter": "python",
   "pygments_lexer": "ipython3",
   "version": "3.9.7"
  }
 },
 "nbformat": 4,
 "nbformat_minor": 5
}
