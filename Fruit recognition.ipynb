{
 "cells": [
  {
   "cell_type": "markdown",
   "id": "unavailable-berkeley",
   "metadata": {},
   "source": [
    "# Fruit recognition"
   ]
  },
  {
   "cell_type": "markdown",
   "id": "grateful-mambo",
   "metadata": {},
   "source": [
    "## Chargement des modules"
   ]
  },
  {
   "cell_type": "code",
   "execution_count": 1,
   "id": "hispanic-county",
   "metadata": {},
   "outputs": [],
   "source": [
    "import numpy as np\n",
    "import pandas as pd\n",
    "import matplotlib.pyplot as plt\n",
    "import matplotlib.image as im\n",
    "import sklearn as sk\n",
    "import glob\n",
    "\n",
    "from sklearn.model_selection import train_test_split\n",
    "from sklearn.tree import DecisionTreeClassifier\n",
    "from sklearn.metrics import accuracy_score\n",
    "from sklearn import metrics\n",
    "from sklearn import svm\n",
    "from sklearn.neighbors import KNeighborsClassifier"
   ]
  },
  {
   "cell_type": "markdown",
   "id": "appointed-webmaster",
   "metadata": {},
   "source": [
    "## Chargement des données (train)"
   ]
  },
  {
   "cell_type": "code",
   "execution_count": null,
   "id": "general-sandwich",
   "metadata": {},
   "outputs": [],
   "source": [
    "tabImg=pd.DataFrame()\n",
    "categories = ['Apple Braeburn', 'Apple Granny Smith', 'Apricot', 'Avocado', 'Banana', 'Blueberry', 'Cactus fruit', 'Cantaloupe', 'Cherry', 'Clementine', 'Corn', 'Cucumber Ripe', 'Grape Blue', 'Kiwi', 'Lemon', 'Limes', 'Mango', 'Onion White', 'Orange', 'Papaya', 'Passion Fruit', 'Peach', 'Pear', 'Pepper Green', 'Pepper Red', 'Pineapple', 'Plum', 'Pomegranate', 'Potato Red', 'Raspberry', 'Strawberry', 'Tomato', 'Watermelon']\n",
    "label = []\n",
    "root_dir=\"data/train/\"\n",
    "\n",
    "for filename in glob.iglob(root_dir+'**/*.jpg',recursive=True):\n",
    "    img=im.imread(filename)\n",
    "    img=img.reshape(img.shape[0]*img.shape[1]*img.shape[2])\n",
    "    \n",
    "    fruit_name=filename[11:].split('/')[0]\n",
    "    \n",
    "    label.append(categories.index(fruit_name))\n",
    "    tabImg=tabImg.append(pd.Series(img),ignore_index=True)\n",
    "tabImg['label']=label"
   ]
  },
  {
   "cell_type": "code",
   "execution_count": null,
   "id": "champion-independence",
   "metadata": {},
   "outputs": [],
   "source": [
    "tabImg.shape"
   ]
  },
  {
   "cell_type": "code",
   "execution_count": null,
   "id": "familiar-detector",
   "metadata": {},
   "outputs": [],
   "source": [
    "tabImg.to_csv('train.csv',index=False)"
   ]
  },
  {
   "cell_type": "code",
   "execution_count": null,
   "id": "lonely-corporation",
   "metadata": {},
   "outputs": [],
   "source": [
    "tabImg.head(5)"
   ]
  },
  {
   "cell_type": "markdown",
   "id": "88e48acd",
   "metadata": {},
   "source": [
    "## Récupération des données (train)"
   ]
  },
  {
   "cell_type": "code",
   "execution_count": null,
   "id": "decent-adelaide",
   "metadata": {},
   "outputs": [],
   "source": [
    "tab=pd.read_csv('train.csv')"
   ]
  },
  {
   "cell_type": "code",
   "execution_count": null,
   "id": "legislative-coral",
   "metadata": {},
   "outputs": [],
   "source": [
    "tab.shape"
   ]
  },
  {
   "cell_type": "code",
   "execution_count": null,
   "id": "fatty-belgium",
   "metadata": {},
   "outputs": [],
   "source": [
    "tab.head(5)"
   ]
  },
  {
   "cell_type": "code",
   "execution_count": null,
   "id": "f79a90e3",
   "metadata": {},
   "outputs": [],
   "source": [
    "tab.isna().sum()"
   ]
  },
  {
   "cell_type": "markdown",
   "id": "2bd5b48e",
   "metadata": {},
   "source": [
    "## Chargement des données (test)"
   ]
  },
  {
   "cell_type": "code",
   "execution_count": null,
   "id": "transparent-screening",
   "metadata": {
    "scrolled": true
   },
   "outputs": [],
   "source": [
    "tabTest=pd.DataFrame()\n",
    "import glob\n",
    "root_dir=\"data/test/\"\n",
    "for filename in glob.iglob(root_dir+'**/*.jpg',recursive=True):\n",
    "    img=im.imread(filename)\n",
    "    img=img.reshape((1,img.shape[0]*img.shape[1]*img.shape[2]))\n",
    "    \n",
    "    new_row={'Image':img}\n",
    "    tabTest=tabTest.append(new_row,ignore_index=True)"
   ]
  },
  {
   "cell_type": "code",
   "execution_count": null,
   "id": "1b152c7b",
   "metadata": {},
   "outputs": [],
   "source": [
    "tabTest.shape"
   ]
  },
  {
   "cell_type": "code",
   "execution_count": null,
   "id": "42931b03",
   "metadata": {},
   "outputs": [],
   "source": [
    "tabTest.head(5)"
   ]
  },
  {
   "cell_type": "code",
   "execution_count": null,
   "id": "d84dea24",
   "metadata": {},
   "outputs": [],
   "source": [
    "tabTest.to_csv('test.csv',index=False)\n",
    "np.save('test.npy', tabTest)"
   ]
  },
  {
   "cell_type": "markdown",
   "id": "763d1f3a",
   "metadata": {},
   "source": [
    "## Récupération des données (test)"
   ]
  },
  {
   "cell_type": "code",
   "execution_count": null,
   "id": "7dda03bc",
   "metadata": {},
   "outputs": [],
   "source": [
    "#npyTab = np.load('test.npy', allow_pickle=True)  # Ne rend pas un dataFrame\n",
    "tabTestCsv=pd.read_csv('train.csv')\n",
    "\n",
    "tabTestCsv.head(5)"
   ]
  },
  {
   "cell_type": "code",
   "execution_count": null,
   "id": "555967eb",
   "metadata": {},
   "outputs": [],
   "source": [
    "tabTestCsv.isna().sum()"
   ]
  },
  {
   "cell_type": "markdown",
   "id": "9528fe5d",
   "metadata": {},
   "source": [
    "# Traitement des donnée et modules"
   ]
  },
  {
   "cell_type": "code",
   "execution_count": null,
   "id": "undefined-cookbook",
   "metadata": {},
   "outputs": [],
   "source": [
    "X=tab.iloc[:,:-1]\n",
    "X.head(5)\n",
    "X.shape"
   ]
  },
  {
   "cell_type": "code",
   "execution_count": null,
   "id": "objective-photographer",
   "metadata": {},
   "outputs": [],
   "source": [
    "Y=tab['label']\n",
    "print(Y.shape)\n",
    "Y.head(5)"
   ]
  },
  {
   "cell_type": "code",
   "execution_count": null,
   "id": "dfe90d0d",
   "metadata": {},
   "outputs": [],
   "source": [
    "Xtrain, Xtest, ytrain, ytest = train_test_split(X, Y,test_size=0.25, random_state=0)"
   ]
  },
  {
   "cell_type": "code",
   "execution_count": null,
   "id": "matched-perth",
   "metadata": {},
   "outputs": [],
   "source": [
    "print(Xtrain.shape)\n",
    "print(Xtest.shape)\n",
    "print(ytrain.shape)\n",
    "print(ytest.shape)"
   ]
  },
  {
   "cell_type": "code",
   "execution_count": null,
   "id": "8649a782",
   "metadata": {},
   "outputs": [],
   "source": [
    "KKN = KNeighborsClassifier()\n",
    "clf=KKN.fit(Xtrain,ytrain)\n",
    "\n",
    "ypredit=clf.predict(Xtest)\n",
    "\n",
    "accuracy_score(ytest,ypredit)"
   ]
  },
  {
   "cell_type": "code",
   "execution_count": null,
   "id": "967847f9",
   "metadata": {},
   "outputs": [],
   "source": []
  }
 ],
 "metadata": {
  "kernelspec": {
   "display_name": "Python 3",
   "language": "python",
   "name": "python3"
  },
  "language_info": {
   "codemirror_mode": {
    "name": "ipython",
    "version": 3
   },
   "file_extension": ".py",
   "mimetype": "text/x-python",
   "name": "python",
   "nbconvert_exporter": "python",
   "pygments_lexer": "ipython3",
   "version": "3.9.2"
  }
 },
 "nbformat": 4,
 "nbformat_minor": 5
}
